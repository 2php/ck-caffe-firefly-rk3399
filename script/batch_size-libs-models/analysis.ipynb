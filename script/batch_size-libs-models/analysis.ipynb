{
 "cells": [
  {
   "cell_type": "markdown",
   "metadata": {
    "deletable": true,
    "editable": true
   },
   "source": [
    "# [cknowledge.org/ai](http://cknowledge.org/ai): Crowdsourcing benchmarking and optimisation of AI"
   ]
  },
  {
   "cell_type": "markdown",
   "metadata": {
    "deletable": true,
    "editable": true
   },
   "source": [
    "A suite of open-source tools for [collecting knowledge on optimising AI](http://bit.ly/hipeac49-ckdl):\n",
    "* [Android app](https://play.google.com/store/apps/details?id=openscience.crowdsource.video.experiments&hl=en_GB)\n",
    "* [Desktop app](https://github.com/dividiti/ck-crowdsource-dnn-optimization)\n",
    "* [CK-Caffe](https://github.com/dividiti/ck-caffe)\n",
    "* [CK-Caffe2](https://github.com/ctuning/ck-caffe2)\n",
    "* [CK-TensorFlow](https://github.com/ctuning/ck-tensorflow)\n",
    "* [CK-TensorRT](https://github.com/dividiti/ck-tensorrt)\n",
    "* [CK-KaNN](https://github.com/dividiti/ck-kann)\n",
    "* etc."
   ]
  },
  {
   "cell_type": "markdown",
   "metadata": {
    "deletable": true,
    "editable": true
   },
   "source": [
    "# [PUBLIC] Benchmarking Caffe on Firefly-RK3399"
   ]
  },
  {
   "cell_type": "code",
   "execution_count": null,
   "metadata": {
    "collapsed": true,
    "deletable": true,
    "editable": true
   },
   "outputs": [],
   "source": [
    "platform_id = 'Rockchip RK3399 Firefly Board (Linux Opensource)\\x00'\n",
    "platform_name = 'Firefly-RK3399'\n",
    "platform_tag = 'firefly-rk3399'\n",
    "platform_os = 'linux'\n",
    "repo_uoa = 'ck-caffe-firefly-rk3399'"
   ]
  },
  {
   "cell_type": "code",
   "execution_count": null,
   "metadata": {
    "collapsed": true,
    "deletable": true,
    "editable": true
   },
   "outputs": [],
   "source": [
    "pretty_print_models = {\n",
    "    'bvlc-alexnet':'AlexNet',\n",
    "    'deepscale-squeezenet-1.1':'SqueezeNet',\n",
    "    'bvlc-googlenet':'GoogleNet'\n",
    "}\n",
    "\n",
    "speedup_sort_models = [\n",
    "    'AlexNet',\n",
    "    'SqueezeNet',\n",
    "    'GoogleNet'\n",
    "]"
   ]
  },
  {
   "cell_type": "code",
   "execution_count": null,
   "metadata": {
    "collapsed": false,
    "deletable": true,
    "editable": true
   },
   "outputs": [],
   "source": [
    "if platform_os == 'linux':\n",
    "    # All OpenCL BLAS libs and libDNN with OpenCL BLAS libs.\n",
    "    opencl_libs = [ \n",
    "        # OpenCL BLAS libs.\n",
    "        'opencl-clblas',\n",
    "        'opencl-clblast',\n",
    "        'opencl-clblast-tune',\n",
    "        'opencl-viennacl',\n",
    "        # libDNN with OpenCL BLAS libs.\n",
    "        'opencl-libdnn-clblas',\n",
    "        'opencl-libdnn-clblast',\n",
    "        'opencl-libdnn-clblast-tune',\n",
    "        'opencl-libdnn-viennacl'\n",
    "    ]\n",
    "    # libDNN with CLBlast-tune is typically the fastest, so the others can be omitted.\n",
    "    libdnn_libs_to_drop = [\n",
    "        'opencl-libdnn-clblas',\n",
    "        'opencl-libdnn-clblast',\n",
    "        'opencl-libdnn-viennacl'\n",
    "    ]\n",
    "    # Used by plot_max_num_images_per_second().\n",
    "    pretty_print_libs = {\n",
    "        'opencl-libdnn-clblast-tune': '[GPU] libDNN',\n",
    "        'opencl-clblas':              '[GPU] clBLAS',\n",
    "        'opencl-viennacl':            '[GPU] ViennaCL',\n",
    "        'opencl-clblast':             '[GPU] CLBlast',\n",
    "        'opencl-clblast-tune':        '[GPU] CLBlast (dv/dt)',\n",
    "        'cpu':                        '[CPU] OpenBLAS'\n",
    "    }\n",
    "    speedup_sort_libs = [\n",
    "        '[GPU] libDNN',\n",
    "        '[GPU] clBLAS',\n",
    "        '[GPU] ViennaCL',\n",
    "        '[GPU] CLBlast',\n",
    "        '[GPU] CLBlast (dv/dt)',\n",
    "        '[CPU] OpenBLAS'\n",
    "    ]    \n",
    "else: # 'android'\n",
    "    # As above but no clBLAS-based libs.\n",
    "    opencl_libs = [\n",
    "        # OpenCL BLAS libs.\n",
    "        'opencl-clblast',\n",
    "        'opencl-clblast-tune',\n",
    "        'opencl-viennacl',\n",
    "        # libDNN with OpenCL BLAS libs.\n",
    "        'opencl-libdnn-clblast',\n",
    "        'opencl-libdnn-clblast-tune',\n",
    "        'opencl-libdnn-viennacl'\n",
    "    ]\n",
    "    # As above but no clBLAS-based libDNN.\n",
    "    libdnn_libs_to_drop = [\n",
    "        'opencl-libdnn-clblast',\n",
    "        'opencl-libdnn-viennacl'\n",
    "    ]\n",
    "    # Used by plot_max_num_images_per_second().\n",
    "    pretty_print_libs = {\n",
    "        'opencl-libdnn-clblast-tune': '[GPU] libDNN',\n",
    "        'opencl-viennacl':            '[GPU] ViennaCL',\n",
    "        'opencl-clblast':             '[GPU] CLBlast',\n",
    "        'opencl-clblast-tune':        '[GPU] CLBlast (dv/dt)',\n",
    "        'cpu':                        '[CPU] OpenBLAS'\n",
    "    }\n",
    "    speedup_sort_libs = [\n",
    "        '[GPU] libDNN',\n",
    "        '[GPU] ViennaCL',\n",
    "        '[GPU] CLBlast',\n",
    "        '[GPU] CLBlast (dv/dt)',\n",
    "        '[CPU] OpenBLAS'\n",
    "    ]\n",
    "# OpenBLAS.\n",
    "cpu_libs = ['cpu']\n",
    "all_libs = cpu_libs + opencl_libs"
   ]
  },
  {
   "cell_type": "markdown",
   "metadata": {
    "deletable": true,
    "editable": true
   },
   "source": [
    "## Table of Contents"
   ]
  },
  {
   "cell_type": "markdown",
   "metadata": {
    "deletable": true,
    "editable": true
   },
   "source": [
    "1. [Overview](#overview)\n",
    "1. [See the code](#code) [for developers]\n",
    "1. [Get the data](#data) [for developers]\n",
    "1. [See the tables](#tables)\n",
    "  1. [All data](#df_all)\n",
    "  1. [All execution time data](#df_time)\n",
    "  1. [Mean execution time per batch](#df_mean_time_per_batch)\n",
    "  1. [Mean execution time per image](#df_mean_time_per_image)\n",
    "  1. [Best mean execution time per image](#df_best_mean_time_per_image)\n",
    "1. [See the graphs - grouped by models](#plot_models)\n",
    "  1. [All libs](#plot_models_all)\n",
    "  1. [GPU libs](#plot_models_gpu)\n",
    "  1. [CLBlast-based libs](#plot_models_clblast)\n",
    "  1. [libDNN-based libs](#plot_models_libdnn)\n",
    "1. [See the graphs - grouped by libs](#plot_libs)\n",
    "  1. [All models](#plot_libs_all)\n",
    "  1. [All models, GPU libs](#plot_libs_gpu)\n",
    "  1. [Models with AlexNet-level accuracy](#plot_libs_alexnet)\n",
    "  1. [Models with AlexNet-level accuracy, CLBlast-based libs](#plot_libs_alexnet_clblast)\n",
    "  1. [Models with AlexNet-level accuracy, libDNN-based libs](#plot_libs_alexnet_libdnn)\n",
    "  1. [Models with AlexNet-level accuracy, CPU lib](#plot_libs_alexnet_cpu)\n",
    "1. [See the graphs - per layer execution time profiling](#plot_per_layer)\n",
    "1. [See the graphs - the ideal adaptive solution](#plot_ideal)\n",
    "  1. [Using all libs for adaptation](#plot_ideal_all)\n",
    "  1. [Using OpenBLAS and libDNN for adaptation](#plot_ideal_cpu_libdnn)\n",
    "  1. [Using OpenBLAS and CLBlast for adaptation](#plot_ideal_cpu_clblast)\n",
    "  1. [Using OpenBLAS and ViennaCL for adaptation](#plot_ideal_cpu_viennacl)\n",
    "1. [See the memory consumption graph](#plot_memory)\n",
    "  1. [Balance memory consumption and execution time per image](#balance_memory_time)\n",
    "1. [Compare AlexNet and SqueezeNet 1.1](#alexnet_vs_squeezenet)\n",
    "  1. [Memory consumption](#alexnet_vs_squeezenet_memory)\n",
    "  1. [Execution time](#alexnet_vs_squeezenet_time)\n",
    "1. [Summary](#summary)\n",
    "  1. [Absolute performance](#performance_absolute)\n",
    "  1. [Relative performance](#performance_relative)"
   ]
  },
  {
   "cell_type": "markdown",
   "metadata": {
    "deletable": true,
    "editable": true
   },
   "source": [
    "<a id=\"overview\"></a>\n",
    "## Overview"
   ]
  },
  {
   "cell_type": "markdown",
   "metadata": {
    "deletable": true,
    "editable": true
   },
   "source": [
    "This Jupyter Notebook studies the performance (execution time, memory consumption):\n",
    "- on the [Firefly-RK3399](http://en.t-firefly.com/en/firenow/Firefly_RK3399/) development board:\n",
    "  - Chip:\n",
    "    - [Rockchip RK3399](http://rockchip.wikidot.com/rk3399)\n",
    "  - CPU (\"big\"):\n",
    "    - ARM&reg; Cortex&reg;-A72 architecture\n",
    "    - Max clock 1800 MHz;\n",
    "    - 2 cores;\n",
    "  - CPU (\"LITTLE\"):\n",
    "    - ARM&reg; Cortex&reg;-A53 architecture;\n",
    "    - Max clock 1416 MHz;\n",
    "    - 4 cores;\n",
    "  - GPU:\n",
    "    - ARM&reg; Mali&trade;-T860 architecture;\n",
    "    - Max clock 800 MHz;\n",
    "    - 4 cores;\n",
    "    - OpenCL driver:\n",
    "```\n",
    "$ ck run program:tool-print-opencl-devices | grep \"version:\"\n",
    "OpenCL 1.2 v1.r13p0-00rel0-git(a4271c9).1ad3fc5b648bfed782705ad469a9797a\n",
    "```\n",
    "\n",
    "  - RAM:\n",
    "    - Samsung dual-channel DDR3;\n",
    "    - 4 GB;\n",
    "  - BSP:\n",
    "    - [Firefly-rk3399_xubuntu1604_201704100952_Beta.7z](http://bbs.t-firefly.com/forum.php?mod=viewthread&tid=1876&extra=page%3D1)\n",
    "```\n",
    "$ cat /etc/lsb-release \n",
    "DISTRIB_ID=Ubuntu\n",
    "DISTRIB_RELEASE=16.04\n",
    "DISTRIB_CODENAME=xenial\n",
    "DISTRIB_DESCRIPTION=\"Ubuntu 16.04.2 LTS\"\n",
    "$ uname -a\n",
    "Linux firefly 4.4.52 #9 SMP Fri Mar 24 10:53:56 HKT 2017 aarch64 aarch64 aarch64 GNU/Linux\n",
    "```\n",
    "\n",
    "- of the following **Caffe models**:\n",
    "\n",
    "```\n",
    "$ ck show env --tags=caffemodel\n",
    "Name:                                                      Version:                 Tags:\n",
    "\n",
    "Caffe model (net and weights) (deepscale, squeezenet, 1.1) 1.1      32bits,bvlc,caffe,caffemodel,deepscale,host-os-linux-32,net,squeezenet,target-os-linux-32,v1,v1.1,weights\n",
    "\n",
    "Caffe model (net and weights) (bvlc, googlenet)            trunk    32bits,bvlc,caffe,caffemodel,googlenet,host-os-linux-32,mirror,net,target-os-linux-32,v0,weights\n",
    "\n",
    "Caffe model (net and weights) (bvlc, alexnet)              trunk    32bits,alexnet,bvlc,caffe,caffemodel,host-os-linux-32,mirror,net,target-os-linux-32,v0,weights\n",
    "```\n",
    "\n",
    "- with the following **Caffe libraries**:\n",
    "\n",
    "```\n",
    "$ ck show env --tags=lib,caffe\n",
    "Name:                                             Version:       Tags:\n",
    "\n",
    "BVLC Caffe framework (opencl,clblast,tune) trunk-880111e 32bits,bvlc,caffe,host-os-linux-32,lib,target-os-linux-32,v0,v0.0,vclblast,vopencl,vtune\n",
    "\n",
    "BVLC Caffe framework (opencl,clblast)      trunk-880111e 32bits,bvlc,caffe,host-os-linux-32,lib,target-os-linux-32,v0,v0.0,vclblast,vopencl\n",
    "\n",
    "BVLC Caffe framework (cpu)                 trunk-eeebdab 32bits,bvlc,caffe,host-os-linux-32,lib,target-os-linux-32,v0,v0.0,vcpu,vmaster\n",
    "\n",
    "...\n",
    "```\n",
    "\n",
    "- built with the following **BLAS libraries**:\n",
    "\n",
    "```\n",
    "$ ck show env --tags=lib,blas\n",
    "Name:            Version:            Tags:\n",
    "\n",
    "clBLAS library   2.10-d16f7b3        32bits,blas,clblas,host-os-linux-32,lib,opencl-blas,target-os-linux-32,v2,v2.10,v2.10.0\n",
    "\n",
    "ViennaCL library dvdt-master-5494bef 32bits,blas,host-os-linux-32,lib,opencl-blas,src,target-os-linux-32,v0,v0.0,v0.0.0,vdvdt,viennacl,vsrc\n",
    "\n",
    "ViennaCL library master-5494bef      32bits,blas,host-os-linux-32,lib,opencl-blas,target-os-linux-32,v0,v0.0,vcpu,viennacl,vmaster\n",
    "\n",
    "ViennaCL library master-5494bef      32bits,blas,host-os-linux-32,lib,opencl-blas,src,target-os-linux-32,v0,v0.0,viennacl,vmaster,vsrc\n",
    "\n",
    "OpenBLAS library 0.2.19-85636ff      32bits,blas,cblas,host-os-linux-32,lib,openblas,target-os-linux-32,v0,v0.2,v0.2.19,v0.2.19.0\n",
    "\n",
    "CLBlast library  development-3ec14df 32bits,blas,clblast,host-os-linux-32,lib,no-tune,opencl-blas,target-os-linux-32,v0,v0.0,vdev,vmaster\n",
    "\n",
    "CLBlast library  development-c9f39ed 32bits,blas,clblast,clblast-tune,host-os-linux-32,lib,opencl-blas,target-os-linux-32,tune,v0,v0.0,vdev,vmaster\n",
    "\n",
    "```\n",
    "\n",
    "- with the **batch size** varying from 2 to 16 with step 2."
   ]
  },
  {
   "cell_type": "markdown",
   "metadata": {
    "deletable": true,
    "editable": true
   },
   "source": [
    "<a id=\"code\"></a>\n",
    "## Data wrangling code"
   ]
  },
  {
   "cell_type": "markdown",
   "metadata": {
    "deletable": true,
    "editable": true
   },
   "source": [
    "**NB:** Please ignore this section if you are not interested in re-running or modifying this notebook."
   ]
  },
  {
   "cell_type": "markdown",
   "metadata": {
    "deletable": true,
    "editable": true
   },
   "source": [
    "### Includes"
   ]
  },
  {
   "cell_type": "markdown",
   "metadata": {
    "deletable": true,
    "editable": true
   },
   "source": [
    "#### Standard"
   ]
  },
  {
   "cell_type": "code",
   "execution_count": null,
   "metadata": {
    "collapsed": true,
    "deletable": true,
    "editable": true
   },
   "outputs": [],
   "source": [
    "import os\n",
    "import sys\n",
    "import json\n",
    "import re"
   ]
  },
  {
   "cell_type": "markdown",
   "metadata": {
    "deletable": true,
    "editable": true
   },
   "source": [
    "#### Scientific"
   ]
  },
  {
   "cell_type": "markdown",
   "metadata": {
    "deletable": true,
    "editable": true
   },
   "source": [
    "If some of the scientific packages are missing, please install them using:\n",
    "```\n",
    "# pip install jupyter pandas numpy matplotlib\n",
    "```"
   ]
  },
  {
   "cell_type": "code",
   "execution_count": null,
   "metadata": {
    "collapsed": false,
    "deletable": true,
    "editable": true
   },
   "outputs": [],
   "source": [
    "import IPython as ip\n",
    "import pandas as pd\n",
    "import numpy as np\n",
    "import matplotlib as mp"
   ]
  },
  {
   "cell_type": "code",
   "execution_count": null,
   "metadata": {
    "collapsed": false,
    "deletable": true,
    "editable": true
   },
   "outputs": [],
   "source": [
    "print ('IPython version: %s' % ip.__version__)\n",
    "print ('Pandas version: %s' % pd.__version__)\n",
    "print ('NumPy version: %s' % np.__version__)\n",
    "print ('Matplotlib version: %s' % mp.__version__)"
   ]
  },
  {
   "cell_type": "code",
   "execution_count": null,
   "metadata": {
    "collapsed": false,
    "deletable": true,
    "editable": true
   },
   "outputs": [],
   "source": [
    "from IPython.display import Image, display\n",
    "def display_in_full(df):\n",
    "    pd.options.display.max_columns = len(df.columns)\n",
    "    pd.options.display.max_rows = len(df.index)\n",
    "    display(df)"
   ]
  },
  {
   "cell_type": "code",
   "execution_count": null,
   "metadata": {
    "collapsed": false,
    "deletable": true,
    "editable": true
   },
   "outputs": [],
   "source": [
    "# import matplotlib.pyplot as plt\n",
    "from matplotlib import cm\n",
    "%matplotlib inline"
   ]
  },
  {
   "cell_type": "code",
   "execution_count": null,
   "metadata": {
    "collapsed": false,
    "deletable": true,
    "editable": true
   },
   "outputs": [],
   "source": [
    "default_title = platform_name\n",
    "default_ylabel = 'Execution time (ms)'\n",
    "default_colormap = cm.autumn\n",
    "default_figsize = [16, 8]\n",
    "default_dpi = 200\n",
    "default_fontsize = 16"
   ]
  },
  {
   "cell_type": "code",
   "execution_count": null,
   "metadata": {
    "collapsed": false,
    "deletable": true,
    "editable": true
   },
   "outputs": [],
   "source": [
    "if mp.__version__[0]=='2': mp.style.use('classic')\n",
    "mp.rcParams['figure.figsize'] = default_figsize\n",
    "mp.rcParams['figure.dpi'] = default_dpi\n",
    "mp.rcParams['font.size'] = default_fontsize\n",
    "mp.rcParams['legend.fontsize'] = 'medium'"
   ]
  },
  {
   "cell_type": "markdown",
   "metadata": {
    "deletable": true,
    "editable": true
   },
   "source": [
    "#### Collective Knowledge"
   ]
  },
  {
   "cell_type": "markdown",
   "metadata": {
    "deletable": true,
    "editable": true
   },
   "source": [
    "If CK is not installed, please install it using:\n",
    "```\n",
    "# pip install ck\n",
    "```"
   ]
  },
  {
   "cell_type": "code",
   "execution_count": null,
   "metadata": {
    "collapsed": false,
    "deletable": true,
    "editable": true
   },
   "outputs": [],
   "source": [
    "import ck.kernel as ck\n",
    "print ('CK version: %s' % ck.__version__)"
   ]
  },
  {
   "cell_type": "markdown",
   "metadata": {
    "deletable": true,
    "editable": true
   },
   "source": [
    "### Access the experimental data"
   ]
  },
  {
   "cell_type": "code",
   "execution_count": null,
   "metadata": {
    "collapsed": false,
    "deletable": true,
    "editable": true
   },
   "outputs": [],
   "source": [
    "def get_experimental_results(repo_uoa='local', default_tag='explore-batch-size-libs-models', time_ms='time_fw_ms'):\n",
    "    module_uoa = 'experiment'\n",
    "    r = ck.access({'action':'search', 'repo_uoa':repo_uoa, 'module_uoa':module_uoa, 'tags':default_tag})\n",
    "    if r['return']>0:\n",
    "        print (\"Error: %s\" % r['error'])\n",
    "        exit(1)\n",
    "    experiments = r['lst']\n",
    "    \n",
    "    dfs = []\n",
    "    for experiment in experiments:\n",
    "        data_uoa = experiment['data_uoa']\n",
    "        r = ck.access({'action':'list_points', 'repo_uoa':repo_uoa, 'module_uoa':module_uoa, 'data_uoa':data_uoa})\n",
    "        if r['return']>0:\n",
    "            print (\"Error: %s\" % r['error'])\n",
    "            exit(1)\n",
    "\n",
    "        # Get (lib_tag, model_tag) from a list of tags in r['dict']['tags'].\n",
    "        # This list includes a couple of irrelevant tags (e.g. cmd key), a model tag and a lib tag.\n",
    "        # NB: Since it's typically easier to list all model tags than all lib tags, only the list\n",
    "        # of models is specified explicitly.\n",
    "        tags = r['dict']['tags']\n",
    "        cmd_key = 'default'\n",
    "        irrelevant_tags = [ cmd_key, default_tag, platform_tag ]\n",
    "        model_tags = [ 'bvlc-alexnet', 'bvlc-googlenet', 'deepscale-squeezenet-1.1' ]\n",
    "        lib_model_tags = [ tag for tag in tags if tag not in irrelevant_tags ]\n",
    "        model_tags = [ tag for tag in lib_model_tags if tag in model_tags ]\n",
    "        lib_tags = [ tag for tag in lib_model_tags if tag not in model_tags ]\n",
    "        # print (tags, model_tags, lib_tags)\n",
    "        if len(lib_tags)==1 and len(model_tags)==1:\n",
    "            (lib, model) = (lib_tags[0], model_tags[0])\n",
    "        else:\n",
    "            continue\n",
    "        \n",
    "        for point in r['points']:\n",
    "            with open(os.path.join(r['path'], 'ckp-%s.0001.json' % point)) as point_file:\n",
    "                point_data_raw = json.load(point_file)\n",
    "            characteristics_list = point_data_raw['characteristics_list']\n",
    "            num_repetitions = len(characteristics_list)\n",
    "            platform = point_data_raw['features']['platform']['platform']['model']\n",
    "            batch_size = np.int64(point_data_raw['choices']['env'].get('CK_CAFFE_BATCH_SIZE',-1))\n",
    "            # Obtain column data.\n",
    "            data = [\n",
    "                {\n",
    "                    # features\n",
    "                    'platform' : platform,\n",
    "                    # choices\n",
    "                    'lib' : lib,\n",
    "                    'model' : model,\n",
    "                    'batch_size' : batch_size,\n",
    "                    # statistical repetition\n",
    "                    'repetition_id': repetition_id,\n",
    "                    # runtime characteristics\n",
    "                    'time (ms)'   : characteristics['run'].get(time_ms, 1e+9), # 1e+9 is like \"positive infinity\"\n",
    "                    'memory (MB)' : characteristics['run'].get('memory_mbytes', -1),\n",
    "                    'success?'    : characteristics['run'].get('run_success', 'n/a'),\n",
    "                    'per layer info' : characteristics['run'].get('per_layer_info', []),\n",
    "                }\n",
    "                for (repetition_id, characteristics) in zip(range(num_repetitions), characteristics_list) \n",
    "            ]\n",
    "            # Deal with missing column data (resulting from failed runs).\n",
    "            if len(data)==1:                \n",
    "                print ('[Warning] Missing data for: lib=%s, model=%s, batch_size=%d' % (lib, model, batch_size))\n",
    "                data = data * num_repetitions\n",
    "            # Construct a DataFrame.\n",
    "            df = pd.DataFrame(data)\n",
    "            # Set columns and index names.\n",
    "            df.columns.name = 'run characteristic'\n",
    "            df.index.name = 'index'\n",
    "            df = df.set_index([ 'platform', 'lib', 'model', 'batch_size', 'repetition_id' ])\n",
    "            # Append to the list of similarly constructed DataFrames.\n",
    "            dfs.append(df)\n",
    "    # Concatenate all constructed DataFrames (i.e. stack on top of each other).    \n",
    "    result = pd.concat(dfs)\n",
    "    return result.sort_index(level=result.index.names)"
   ]
  },
  {
   "cell_type": "markdown",
   "metadata": {
    "deletable": true,
    "editable": true
   },
   "source": [
    "### Plot execution time per image or memory consumption"
   ]
  },
  {
   "cell_type": "code",
   "execution_count": null,
   "metadata": {
    "collapsed": false,
    "deletable": true,
    "editable": true
   },
   "outputs": [],
   "source": [
    "def plot(mean, std, title=default_title, ylabel=default_ylabel, rot=0, ymax=0):\n",
    "    ymax = mean.max().max() if ymax==0 else ymax\n",
    "    ax = mean.plot(kind='bar', yerr=std, grid=True, legend=True, rot=rot, ylim=[0,ymax*1.05],\n",
    "                   fontsize=default_fontsize, figsize=default_figsize, colormap=default_colormap)\n",
    "    ax.set_title(title, fontsize=default_fontsize)\n",
    "    ax.set_xlabel(mean.index.name, fontsize=default_fontsize)\n",
    "    ax.set_ylabel(ylabel, fontsize=default_fontsize)\n",
    "    return ax"
   ]
  },
  {
   "cell_type": "markdown",
   "metadata": {
    "deletable": true,
    "editable": true
   },
   "source": [
    "### Plot maximum number of images per second (FPS)"
   ]
  },
  {
   "cell_type": "code",
   "execution_count": null,
   "metadata": {
    "collapsed": false,
    "deletable": true,
    "editable": true
   },
   "outputs": [],
   "source": [
    "def plot_max_num_images_per_second(df_mean_time_per_image, libs_to_drop=libdnn_libs_to_drop, rot=0, fontsize=None):\n",
    "    min_time_per_image = df_mean_time_per_image.min(axis=1).unstack('lib')\n",
    "    images_per_second = 1e+3 / min_time_per_image\n",
    "    max_num_images_per_second = images_per_second \\\n",
    "        .drop(libs_to_drop, axis=1) \\\n",
    "        .rename(columns=pretty_print_libs, index=pretty_print_models) \\\n",
    "        .reindex(columns=speedup_sort_libs, index=speedup_sort_models)\n",
    "    ax = max_num_images_per_second \\\n",
    "        .plot(kind='bar', rot=rot, width=0.95, grid=True, legend=True,\n",
    "              fontsize=default_fontsize, figsize=default_figsize, colormap=default_colormap)\n",
    "    ax.set_title(default_title, fontsize=default_fontsize)\n",
    "    ax.set_xlabel(max_num_images_per_second.index.name, fontsize=default_fontsize)\n",
    "    ax.set_ylabel('Images/second (with the best even batch size from 2 to 16)', fontsize=default_fontsize)\n",
    "    ax.legend(loc='upper left');\n",
    "    for patch in ax.patches:\n",
    "        text = '{0:.2f}'.format(patch.get_height())[0:4]\n",
    "        ax.annotate(text, (patch.get_x()*1.00, patch.get_height()*1.01), fontsize=fontsize)"
   ]
  },
  {
   "cell_type": "markdown",
   "metadata": {
    "deletable": true,
    "editable": true
   },
   "source": [
    "### Plot the speedup over a given baseline"
   ]
  },
  {
   "cell_type": "code",
   "execution_count": null,
   "metadata": {
    "collapsed": false,
    "deletable": true,
    "editable": true
   },
   "outputs": [],
   "source": [
    "def plot_speedup_over_baseline(df_mean_time_per_image, baseline='opencl-clblast-tune', \n",
    "                               libs_to_drop=libdnn_libs_to_drop, rot=0, fontsize=None):\n",
    "    speedup_over_baseline = df_mean_time_per_image.min(axis=1).unstack('model').loc[baseline] / \\\n",
    "                            df_mean_time_per_image.min(axis=1).unstack('model')\n",
    "    speedup_over_baseline = speedup_over_baseline.T \\\n",
    "        .drop(libs_to_drop, axis=1) \\\n",
    "        .rename(index=pretty_print_models, columns=pretty_print_libs) \\\n",
    "        .reindex(columns=speedup_sort_libs)\n",
    "    ax = speedup_over_baseline \\\n",
    "        .plot(kind='bar', rot=rot, width=0.95, grid=True, legend=True,\n",
    "              fontsize=default_fontsize, figsize=default_figsize, colormap=default_colormap)\n",
    "    ax.set_title(default_title, fontsize=default_fontsize)\n",
    "    ax.set_xlabel(speedup_over_baseline.index.name, fontsize=default_fontsize)\n",
    "    ax.set_ylabel('Speedup over the given baseline (%s)' % pretty_print_libs[baseline], fontsize=default_fontsize)\n",
    "    for patch in ax.patches:\n",
    "        text = '{0:.2f}'.format(patch.get_height())[0:4]\n",
    "        ax.annotate(text, (patch.get_x()*1.00, patch.get_height()*1.01), fontsize=fontsize)"
   ]
  },
  {
   "cell_type": "markdown",
   "metadata": {
    "deletable": true,
    "editable": true
   },
   "source": [
    "### Plot execution time per image per layer"
   ]
  },
  {
   "cell_type": "code",
   "execution_count": null,
   "metadata": {
    "collapsed": true,
    "deletable": true,
    "editable": true
   },
   "outputs": [],
   "source": [
    "# This transformation is time consuming, hence only call it once for multiple plots.\n",
    "def get_per_layer_info(df_all):\n",
    "    df_per_layer_info = df_all['per layer info']\n",
    "    row_dfs = []\n",
    "    for (row_info, row_id) in zip(df_per_layer_info, range(len(df_per_layer_info))):\n",
    "        # Skip constructing a DataFrame when no layer info is available.\n",
    "        if not row_info: continue\n",
    "        # Augment each layer info with the row index: (model, lib, batch_size, repetition_id).\n",
    "        for layer_info in row_info:\n",
    "            layer_info.update({ k : v for k, v in zip(df_per_layer_info.index.names, df_per_layer_info.index[row_id]) })\n",
    "        # Construct a DataFrame and move the row index to where it belongs.\n",
    "        row_df = pd.DataFrame(data=row_info).set_index(df_per_layer_info.index.names)\n",
    "        row_dfs.append(row_df)\n",
    "    return pd.concat(row_dfs)"
   ]
  },
  {
   "cell_type": "code",
   "execution_count": null,
   "metadata": {
    "collapsed": true,
    "deletable": true,
    "editable": true
   },
   "outputs": [],
   "source": [
    "def plot_time_per_image_per_layer(df_per_layer_info, model, libs, batch_sizes,\n",
    "                                  direction=['forward'], lower=0.0, upper=1.0, ymax=0, rot=90):\n",
    "    df_time_per_batch = df_per_layer_info.loc[model, libs, batch_sizes] \\\n",
    "        .set_index(['direction', 'label'], append=True) \\\n",
    "        .reorder_levels(['direction', 'label', 'model', 'lib', 'batch_size', 'repetition_id']) \\\n",
    "        .loc[direction] \\\n",
    "        .reorder_levels(['label', 'model', 'lib', 'batch_size', 'repetition_id', 'direction']) \\\n",
    "        .groupby(level=['label', 'model', 'lib', 'batch_size', 'repetition_id']).sum() \\\n",
    "        ['time_ms']\n",
    "    df_time_per_image = df_time_per_batch.unstack('batch_size') / batch_sizes\n",
    "    df = df_time_per_image.unstack(['lib', 'model'])\n",
    "    df = df.reorder_levels(['model', 'lib', 'batch_size'], axis=1)\n",
    "    mean = df.groupby(level='label').mean()\n",
    "    std = df.groupby(level='label').std()\n",
    "    select = (lower*mean.sum() <= mean).any(axis=1) & (mean <= upper*mean.sum()).any(axis=1)\n",
    "    ymax = mean[select].max().max() if ymax==0 else ymax\n",
    "    ax = plot(mean=mean[select], std=std[select], ylabel='Execution per image time per layer (ms)', ymax=ymax, rot=rot)\n",
    "    ax.set_xlabel('Layer', fontsize=default_fontsize)"
   ]
  },
  {
   "cell_type": "markdown",
   "metadata": {
    "deletable": true,
    "editable": true
   },
   "source": [
    "### Plot the ideal adaptive solution"
   ]
  },
  {
   "cell_type": "code",
   "execution_count": null,
   "metadata": {
    "collapsed": true,
    "deletable": true,
    "editable": true
   },
   "outputs": [],
   "source": [
    "# The ideal adaptive solution for each layer selects the best performing library from the 'libs_for_adaptation' list.\n",
    "def get_ideal_adaptive_solution(df_per_layer_info, libs_for_adaptation, direction=['forward']):\n",
    "    df_for_adaptation = df_per_layer_info \\\n",
    "        .set_index(['direction', 'label'], append=True) \\\n",
    "        .reorder_levels(['direction', 'lib', 'model', 'label', 'batch_size', 'repetition_id']) \\\n",
    "        .loc[direction] \\\n",
    "        .sort_index() \\\n",
    "        .reorder_levels(['lib', 'model', 'label', 'batch_size', 'repetition_id', 'direction']) \\\n",
    "        .loc[libs_for_adaptation] \\\n",
    "        .reorder_levels(['model', 'label', 'lib', 'batch_size', 'repetition_id', 'direction']) \\\n",
    "        ['time_ms']\n",
    "    # With every step, reduce the rightmost dimension until the min time per model is reached.\n",
    "    df_cum_time_per_repetition = df_for_adaptation.groupby(level=df_for_adaptation.index.names[:-1]).sum()\n",
    "    df_min_time_per_repetition = df_cum_time_per_repetition.groupby(level=df_cum_time_per_repetition.index.names[:-1]).min()\n",
    "    batch_sizes = df_per_layer_info.index.levels[df_per_layer_info.index.names.index('batch_size')].values\n",
    "    df_min_time_per_batch = df_min_time_per_repetition.unstack('batch_size') / batch_sizes\n",
    "    df_min_time_per_image = df_min_time_per_batch.min(axis=1)\n",
    "    df_min_time_per_layer = df_min_time_per_image.groupby(level=df_min_time_per_image.index.names[:-1]).min()\n",
    "    #df_min_time_per_model = df_min_time_per_layer.groupby(level=df_min_time_per_layer.index.names[:-1]).sum()\n",
    "    # Transform to get the models in the index and the libs in the columns.\n",
    "    df_min_time_per_layer_idx = df_min_time_per_image.groupby(level=df_min_time_per_image.index.names[:-1]).idxmin()\n",
    "    df_ideal = df_min_time_per_image[df_min_time_per_layer_idx] \\\n",
    "        .reorder_levels(['model', 'lib', 'label']) \\\n",
    "        .groupby(level=['model', 'lib']).sum() \\\n",
    "        .unstack('lib')\n",
    "    # Sort in the order of increasing time per model.\n",
    "    df_ideal_sorted = df_ideal.loc[df_ideal.sum(axis=1).sort_values(ascending=True).index]\n",
    "    return df_ideal_sorted"
   ]
  },
  {
   "cell_type": "code",
   "execution_count": null,
   "metadata": {
    "collapsed": true,
    "deletable": true,
    "editable": true
   },
   "outputs": [],
   "source": [
    "def plot_ideal_adaptive_solution(df_ideal, df_real, tag=''):\n",
    "    figsize=[15, 3]\n",
    "    if not tag=='': figsize=[10, 2] # good for dumping png (e.g. 3 graphs fit well onto a slide).\n",
    "    for model in df_ideal.index:\n",
    "        df_data = {}; df_data['adaptive'] = df_ideal.loc[model]\n",
    "        for lib in df_ideal.columns:\n",
    "            df_data[lib] = pd.Series(index=df_ideal.columns)\n",
    "            df_data[lib][lib] = df_real.loc[model, lib]\n",
    "        df = pd.DataFrame(df_data).T \\\n",
    "            .rename(\n",
    "                columns=pretty_print_libs,\n",
    "                index={ \n",
    "                    key : pretty_print_libs[key].replace('[CPU]', 'Only').replace('[GPU]', 'Only')\n",
    "                    for key in pretty_print_libs.keys()\n",
    "                })\n",
    "        ax = df.loc[df.sum(axis=1).sort_values(ascending=True).index] \\\n",
    "            .plot(kind='barh', stacked=True, width=0.9, grid=True, legend=True,\n",
    "                  fontsize=default_fontsize, figsize=figsize, colormap=cm.summer_r)\n",
    "            #.legend(loc='lower right')\n",
    "        ax.set_title('%s - execution time per image (ms)' % model, fontsize=default_fontsize)\n",
    "        if not tag=='': ax.get_figure().savefig('%s.%s.png' % (tag, model))"
   ]
  },
  {
   "cell_type": "markdown",
   "metadata": {
    "deletable": true,
    "editable": true
   },
   "source": [
    "### Plot execution time per image and memory consumption"
   ]
  },
  {
   "cell_type": "code",
   "execution_count": null,
   "metadata": {
    "collapsed": false,
    "deletable": true,
    "editable": true
   },
   "outputs": [],
   "source": [
    "def plot_time_per_image_and_memory_consumption(df_all, model, lib):\n",
    "    df = df_all[['time (ms)', 'memory (MB)']] \\\n",
    "        .groupby(level=df_all.index.names[:-1]).mean() \\\n",
    "        .loc[lib, model]\n",
    "    df['time per image (ms)'] = df['time (ms)'].divide(df.index, axis=0)\n",
    "    df['memory per image (MB)'] = df['memory (MB)'].divide(df.index, axis=0)\n",
    "    df = df.drop('time (ms)', axis=1).sort_index()\n",
    "    ax = df.plot(secondary_y=['memory (MB)', 'memory per image (MB)'], mark_right=False, grid=True,\n",
    "                 figsize=[12, 8], fontsize=default_fontsize, colormap=cm.winter)\n",
    "    ax.set_title('%s w/ %s' % (model, lib), fontsize=default_fontsize)\n",
    "    ax.set_xlabel(df.index.name, fontsize=default_fontsize)\n",
    "    ax.set_ylabel('execution time (ms)', fontsize=default_fontsize); ax.legend(loc='center left'); ax.set_ylim(0)\n",
    "    ax.right_ax.set_ylabel('memory consumption (MB)', fontsize=default_fontsize); ax.right_ax.legend(loc='center right')"
   ]
  },
  {
   "cell_type": "markdown",
   "metadata": {
    "deletable": true,
    "editable": true
   },
   "source": [
    "<a id=\"data\"></a>\n",
    "## Get the experimental data"
   ]
  },
  {
   "cell_type": "markdown",
   "metadata": {
    "deletable": true,
    "editable": true
   },
   "source": [
    "**NB:** Please ignore this section if you are not interested in re-running or modifying this notebook. "
   ]
  },
  {
   "cell_type": "markdown",
   "metadata": {
    "deletable": true,
    "editable": true
   },
   "source": [
    "The Caffe experimental data was collected on the experimental platform (after installing all Caffe libraries and models of interest) as follows:\n",
    "```\n",
    "$ cd `ck find ck-caffe:script:explore-batch-size-libs-models`\n",
    "$ python explore-batch-size-libs-models-benchmark.py\n",
    "```\n",
    "\n",
    "It can be downloaded and registered with CK as follows:\n",
    "```\n",
    "$ ck add repo:ck-caffe-firefly-rk3399 --url=https://github.com/dividiti/ck-caffe-firefly-rk3399 --quiet\n",
    "```"
   ]
  },
  {
   "cell_type": "markdown",
   "metadata": {
    "deletable": true,
    "editable": true
   },
   "source": [
    "<a id=\"tables\"></a>\n",
    "## Tables"
   ]
  },
  {
   "cell_type": "markdown",
   "metadata": {
    "deletable": true,
    "editable": true
   },
   "source": [
    "<a id=\"df_all\"></a>\n",
    "### All data"
   ]
  },
  {
   "cell_type": "code",
   "execution_count": null,
   "metadata": {
    "collapsed": false,
    "deletable": true,
    "editable": true
   },
   "outputs": [],
   "source": [
    "df_all = get_experimental_results(repo_uoa)\n",
    "display_in_full(df_all)"
   ]
  },
  {
   "cell_type": "markdown",
   "metadata": {
    "deletable": true,
    "editable": true
   },
   "source": [
    "<a id=\"df_time\"></a>\n",
    "### All execution time data indexed by repetitions"
   ]
  },
  {
   "cell_type": "code",
   "execution_count": null,
   "metadata": {
    "collapsed": false,
    "deletable": true,
    "editable": true
   },
   "outputs": [],
   "source": [
    "df_time = df_all['time (ms)'].unstack(df_all.index.names[:-1])\n",
    "display_in_full(df_time)"
   ]
  },
  {
   "cell_type": "markdown",
   "metadata": {
    "deletable": true,
    "editable": true
   },
   "source": [
    "<a id=\"df_mean_time_per_batch\"></a>\n",
    "### Mean execution time per batch"
   ]
  },
  {
   "cell_type": "code",
   "execution_count": null,
   "metadata": {
    "collapsed": false,
    "deletable": true,
    "editable": true
   },
   "outputs": [],
   "source": [
    "df_mean_time_per_batch = df_all['time (ms)'] \\\n",
    "    .unstack('batch_size') \\\n",
    "    .reorder_levels(['platform', 'model', 'lib', 'repetition_id']) \\\n",
    "    .groupby(['platform', 'model', 'lib']).mean() \\\n",
    "    .sort_index()\n",
    "display_in_full(df_mean_time_per_batch)"
   ]
  },
  {
   "cell_type": "markdown",
   "metadata": {
    "deletable": true,
    "editable": true
   },
   "source": [
    "<a id=\"df_mean_time_per_image\"></a>\n",
    "### Mean execution time per image"
   ]
  },
  {
   "cell_type": "code",
   "execution_count": null,
   "metadata": {
    "collapsed": false,
    "deletable": true,
    "editable": true,
    "scrolled": true
   },
   "outputs": [],
   "source": [
    "batch_sizes = df_mean_time_per_batch.columns.tolist()\n",
    "df_mean_time_per_image = df_mean_time_per_batch / batch_sizes\n",
    "display_in_full(df_mean_time_per_image)"
   ]
  },
  {
   "cell_type": "markdown",
   "metadata": {
    "deletable": true,
    "editable": true
   },
   "source": [
    "<a id=\"df_best_mean_time_per_image\"></a>\n",
    "### Best mean execution time per image"
   ]
  },
  {
   "cell_type": "code",
   "execution_count": null,
   "metadata": {
    "collapsed": false,
    "deletable": true,
    "editable": true
   },
   "outputs": [],
   "source": [
    "df_mean_time_per_image = df_mean_time_per_image.loc[platform_id]"
   ]
  },
  {
   "cell_type": "code",
   "execution_count": null,
   "metadata": {
    "collapsed": false,
    "deletable": true,
    "editable": true
   },
   "outputs": [],
   "source": [
    "plot_max_num_images_per_second(df_mean_time_per_image, libs_to_drop=[], fontsize=18)"
   ]
  },
  {
   "cell_type": "code",
   "execution_count": null,
   "metadata": {
    "collapsed": false,
    "deletable": true,
    "editable": true
   },
   "outputs": [],
   "source": [
    "df_mean_time_per_image.min(axis=1)"
   ]
  },
  {
   "cell_type": "code",
   "execution_count": null,
   "metadata": {
    "collapsed": false,
    "deletable": true,
    "editable": true
   },
   "outputs": [],
   "source": [
    "df_mean_time_per_image.idxmin(axis=1)"
   ]
  },
  {
   "cell_type": "code",
   "execution_count": null,
   "metadata": {
    "collapsed": false,
    "deletable": true,
    "editable": true
   },
   "outputs": [],
   "source": [
    "df_time = df_time[platform_id].reorder_levels(['model', 'lib', 'batch_size'], axis=1)\n",
    "display_in_full(df_time)"
   ]
  },
  {
   "cell_type": "code",
   "execution_count": null,
   "metadata": {
    "collapsed": false,
    "deletable": true,
    "editable": true
   },
   "outputs": [],
   "source": [
    "df_time_per_image = df_time / (batch_sizes*(len(df_time.columns)/len(batch_sizes)))\n",
    "display_in_full(df_time_per_image)"
   ]
  },
  {
   "cell_type": "code",
   "execution_count": null,
   "metadata": {
    "collapsed": false,
    "deletable": true,
    "editable": true
   },
   "outputs": [],
   "source": [
    "df_min_time_per_image_index = pd.DataFrame(df_mean_time_per_image.idxmin(axis=1)).set_index(0, append=True).index.values\n",
    "df_min_time_per_image_index"
   ]
  },
  {
   "cell_type": "code",
   "execution_count": null,
   "metadata": {
    "collapsed": false,
    "deletable": true,
    "editable": true
   },
   "outputs": [],
   "source": [
    "df_model_lib = df_time_per_image[df_min_time_per_image_index] \\\n",
    "    .stack(['model', 'lib']) \\\n",
    "    .sum(axis=1)"
   ]
  },
  {
   "cell_type": "markdown",
   "metadata": {
    "deletable": true,
    "editable": true
   },
   "source": [
    "<a id=\"plot_models\"></a>\n",
    "## Plot by Caffe models"
   ]
  },
  {
   "cell_type": "code",
   "execution_count": null,
   "metadata": {
    "collapsed": true,
    "deletable": true,
    "editable": true
   },
   "outputs": [],
   "source": [
    "df_model_lib_mean = df_model_lib.groupby(level=['model', 'lib']).mean()\n",
    "df_model_lib_std  = df_model_lib.groupby(level=['model', 'lib']).std()"
   ]
  },
  {
   "cell_type": "markdown",
   "metadata": {
    "deletable": true,
    "editable": true
   },
   "source": [
    "<a id=\"plot_models_all\"></a>\n",
    "### All libs"
   ]
  },
  {
   "cell_type": "code",
   "execution_count": null,
   "metadata": {
    "collapsed": false,
    "deletable": true,
    "editable": true
   },
   "outputs": [],
   "source": [
    "mean = df_model_lib_mean.unstack('lib')\n",
    "std  = df_model_lib_std.unstack('lib')\n",
    "plot(mean, std)"
   ]
  },
  {
   "cell_type": "markdown",
   "metadata": {
    "deletable": true,
    "editable": true
   },
   "source": [
    "<a id=\"plot_models_gpu\"></a>\n",
    "### Only GPU libs"
   ]
  },
  {
   "cell_type": "code",
   "execution_count": null,
   "metadata": {
    "collapsed": false,
    "deletable": true,
    "editable": true
   },
   "outputs": [],
   "source": [
    "mean = df_model_lib_mean.unstack('lib').drop('cpu', axis=1, errors='ignore')\n",
    "std  = df_model_lib_std.unstack('lib').drop('cpu', axis=1, errors='ignore')\n",
    "plot(mean, std)"
   ]
  },
  {
   "cell_type": "markdown",
   "metadata": {
    "deletable": true,
    "editable": true
   },
   "source": [
    "<a id=\"plot_models_clblast\"></a>\n",
    "### Only CLBlast-based libs (default vs tuned)"
   ]
  },
  {
   "cell_type": "code",
   "execution_count": null,
   "metadata": {
    "collapsed": true,
    "deletable": true,
    "editable": true
   },
   "outputs": [],
   "source": [
    "clblast_libs = [ 'opencl-clblast', 'opencl-clblast-tune' ]"
   ]
  },
  {
   "cell_type": "code",
   "execution_count": null,
   "metadata": {
    "collapsed": false,
    "deletable": true,
    "editable": true
   },
   "outputs": [],
   "source": [
    "df_model_clblast_libs = df_model_lib \\\n",
    "    .reorder_levels(['lib', 'model','repetition_id']) \\\n",
    "    .sort_index() \\\n",
    "    .loc[clblast_libs]\n",
    "mean = df_model_clblast_libs.groupby(level=['lib', 'model']).mean().unstack('lib')\n",
    "std = df_model_clblast_libs.groupby(level=['lib', 'model']).std().unstack('lib')\n",
    "plot(mean, std)"
   ]
  },
  {
   "cell_type": "code",
   "execution_count": null,
   "metadata": {
    "collapsed": false,
    "deletable": true,
    "editable": true
   },
   "outputs": [],
   "source": [
    "mean.div(mean['opencl-clblast-tune'], axis='index')"
   ]
  },
  {
   "cell_type": "markdown",
   "metadata": {
    "deletable": true,
    "editable": true
   },
   "source": [
    "<a id=\"plot_models_libdnn\"></a>\n",
    "### Only libDNN-based libs"
   ]
  },
  {
   "cell_type": "code",
   "execution_count": null,
   "metadata": {
    "collapsed": false,
    "deletable": true,
    "editable": true
   },
   "outputs": [],
   "source": [
    "libdnn_libs = libdnn_libs_to_drop + [ 'opencl-libdnn-clblast-tune' ]\n",
    "libdnn_libs"
   ]
  },
  {
   "cell_type": "code",
   "execution_count": null,
   "metadata": {
    "collapsed": false,
    "deletable": true,
    "editable": true
   },
   "outputs": [],
   "source": [
    "df_model_libdnn_libs = df_model_lib \\\n",
    "    .reorder_levels(['lib', 'model','repetition_id']) \\\n",
    "    .sort_index() \\\n",
    "    .loc[libdnn_libs]\n",
    "mean = df_model_libdnn_libs.groupby(level=['lib', 'model']).mean().unstack('lib')\n",
    "std = df_model_libdnn_libs.groupby(level=['lib', 'model']).std().unstack('lib')\n",
    "plot(mean, std)"
   ]
  },
  {
   "cell_type": "code",
   "execution_count": null,
   "metadata": {
    "collapsed": false,
    "deletable": true,
    "editable": true
   },
   "outputs": [],
   "source": [
    "mean.div(mean['opencl-libdnn-clblast-tune'], axis='index')"
   ]
  },
  {
   "cell_type": "markdown",
   "metadata": {
    "deletable": true,
    "editable": true
   },
   "source": [
    "<a id=\"plot_libs\"></a>\n",
    "## Plot by Caffe libs"
   ]
  },
  {
   "cell_type": "markdown",
   "metadata": {
    "deletable": true,
    "editable": true
   },
   "source": [
    "<a id=\"plot_libs_all\"></a>\n",
    "### All models, all libs"
   ]
  },
  {
   "cell_type": "code",
   "execution_count": null,
   "metadata": {
    "collapsed": false,
    "deletable": true,
    "editable": true
   },
   "outputs": [],
   "source": [
    "mean = df_model_lib_mean.unstack('model')\n",
    "std  = df_model_lib_std.unstack('model')\n",
    "plot(mean, std, rot=30)"
   ]
  },
  {
   "cell_type": "markdown",
   "metadata": {
    "deletable": true,
    "editable": true
   },
   "source": [
    "<a id=\"plot_libs_gpu\"></a>\n",
    "### All models, only GPU libs"
   ]
  },
  {
   "cell_type": "code",
   "execution_count": null,
   "metadata": {
    "collapsed": false,
    "deletable": true,
    "editable": true
   },
   "outputs": [],
   "source": [
    "mean = df_model_lib_mean.unstack('model').drop('cpu', axis=0, errors='ignore')\n",
    "std  = df_model_lib_std.unstack('model').drop('cpu', axis=0, errors='ignore')\n",
    "plot(mean, std, rot=30)"
   ]
  },
  {
   "cell_type": "markdown",
   "metadata": {
    "deletable": true,
    "editable": true
   },
   "source": [
    "<a id=\"plot_libs_alexnet\"></a>\n",
    "### Only models with AlexNet-level accuracy"
   ]
  },
  {
   "cell_type": "code",
   "execution_count": null,
   "metadata": {
    "collapsed": true,
    "deletable": true,
    "editable": true
   },
   "outputs": [],
   "source": [
    "alexnet_level_accuracy = [ 'bvlc-alexnet', 'deepscale-squeezenet-1.1' ]"
   ]
  },
  {
   "cell_type": "code",
   "execution_count": null,
   "metadata": {
    "collapsed": false,
    "deletable": true,
    "editable": true
   },
   "outputs": [],
   "source": [
    "mean = df_model_lib_mean[alexnet_level_accuracy].unstack('model')\n",
    "std  = df_model_lib_std[alexnet_level_accuracy].unstack('model')\n",
    "plot(mean, std, rot=30)"
   ]
  },
  {
   "cell_type": "code",
   "execution_count": null,
   "metadata": {
    "collapsed": false,
    "deletable": true,
    "editable": true
   },
   "outputs": [],
   "source": [
    "pd.options.display.max_rows=mean.index.size\n",
    "mean['deepscale-squeezenet-1.1'] / mean['bvlc-alexnet']"
   ]
  },
  {
   "cell_type": "markdown",
   "metadata": {
    "deletable": true,
    "editable": true
   },
   "source": [
    "<a id=\"plot_libs_alexnet_clblast\"></a>\n",
    "### Only models with AlexNet-level accuracy, only CLBlast-based libs"
   ]
  },
  {
   "cell_type": "code",
   "execution_count": null,
   "metadata": {
    "collapsed": false,
    "deletable": true,
    "editable": true
   },
   "outputs": [],
   "source": [
    "clblast_libs"
   ]
  },
  {
   "cell_type": "code",
   "execution_count": null,
   "metadata": {
    "collapsed": false,
    "deletable": true,
    "editable": true,
    "scrolled": true
   },
   "outputs": [],
   "source": [
    "mean = df_model_lib_mean[alexnet_level_accuracy].unstack('model').loc[clblast_libs]\n",
    "std  = df_model_lib_std[alexnet_level_accuracy].unstack('model').loc[clblast_libs]\n",
    "plot(mean, std)"
   ]
  },
  {
   "cell_type": "code",
   "execution_count": null,
   "metadata": {
    "collapsed": false,
    "deletable": true,
    "editable": true,
    "scrolled": true
   },
   "outputs": [],
   "source": [
    "mean['deepscale-squeezenet-1.1'] / mean['bvlc-alexnet']"
   ]
  },
  {
   "cell_type": "markdown",
   "metadata": {
    "deletable": true,
    "editable": true
   },
   "source": [
    "<a id=\"plot_libs_alexnet_libdnn\"></a>\n",
    "### Only models with AlexNet-level accuracy, only libDNN libs"
   ]
  },
  {
   "cell_type": "code",
   "execution_count": null,
   "metadata": {
    "collapsed": false,
    "deletable": true,
    "editable": true
   },
   "outputs": [],
   "source": [
    "libdnn_libs"
   ]
  },
  {
   "cell_type": "code",
   "execution_count": null,
   "metadata": {
    "collapsed": false,
    "deletable": true,
    "editable": true
   },
   "outputs": [],
   "source": [
    "mean = df_model_lib_mean[alexnet_level_accuracy].unstack('model').loc[libdnn_libs]\n",
    "std  = df_model_lib_std[alexnet_level_accuracy].unstack('model').loc[libdnn_libs]\n",
    "plot(mean, std)"
   ]
  },
  {
   "cell_type": "code",
   "execution_count": null,
   "metadata": {
    "collapsed": false,
    "deletable": true,
    "editable": true
   },
   "outputs": [],
   "source": [
    "mean['deepscale-squeezenet-1.1'] / mean['bvlc-alexnet']"
   ]
  },
  {
   "cell_type": "markdown",
   "metadata": {
    "deletable": true,
    "editable": true
   },
   "source": [
    "<a id=\"plot_libs_alexnet_cpu\"></a>\n",
    "### Only models with AlexNet-level accuracy, only CPU lib"
   ]
  },
  {
   "cell_type": "code",
   "execution_count": null,
   "metadata": {
    "collapsed": false,
    "deletable": true,
    "editable": true
   },
   "outputs": [],
   "source": [
    "mean = df_model_lib_mean[alexnet_level_accuracy].unstack('model').loc[['cpu']]\n",
    "std  = df_model_lib_std[alexnet_level_accuracy].unstack('model').loc[['cpu']]\n",
    "plot(mean, std)"
   ]
  },
  {
   "cell_type": "code",
   "execution_count": null,
   "metadata": {
    "collapsed": false,
    "deletable": true,
    "editable": true
   },
   "outputs": [],
   "source": [
    "mean['deepscale-squeezenet-1.1'] / mean['bvlc-alexnet']"
   ]
  },
  {
   "cell_type": "markdown",
   "metadata": {
    "deletable": true,
    "editable": true
   },
   "source": [
    "<a id=\"plot_per_layer\"></a>\n",
    "## Plot execution time per image per layer"
   ]
  },
  {
   "cell_type": "code",
   "execution_count": null,
   "metadata": {
    "collapsed": true,
    "deletable": true,
    "editable": true
   },
   "outputs": [],
   "source": [
    "df_per_layer_info = get_per_layer_info(df_all)"
   ]
  },
  {
   "cell_type": "code",
   "execution_count": null,
   "metadata": {
    "collapsed": false,
    "deletable": true,
    "editable": true
   },
   "outputs": [],
   "source": [
    "# Transform to keep compatibility. Swap 'model' and 'lib'. Remove 'platform'. Sort index.\n",
    "df_per_layer_info = df_per_layer_info \\\n",
    "    .reorder_levels(['platform', 'model', 'lib', 'batch_size', 'repetition_id']) \\\n",
    "    .loc[platform_id] \\\n",
    "    .sort_index()"
   ]
  },
  {
   "cell_type": "code",
   "execution_count": null,
   "metadata": {
    "collapsed": false,
    "deletable": true,
    "editable": true
   },
   "outputs": [],
   "source": [
    "# Plot for a list of batch sizes.\n",
    "plot_time_per_image_per_layer(\n",
    "    df_per_layer_info, model='bvlc-alexnet', libs='opencl-clblast-tune', batch_sizes=[2, 8, 16]\n",
    ")"
   ]
  },
  {
   "cell_type": "code",
   "execution_count": null,
   "metadata": {
    "collapsed": false,
    "deletable": true,
    "editable": true
   },
   "outputs": [],
   "source": [
    "# Plot for a list of batch sizes. Only plot layers that consume at least 10% of the total execution time.\n",
    "plot_time_per_image_per_layer(\n",
    "    df_per_layer_info, model='bvlc-alexnet', libs='opencl-clblast-tune', batch_sizes=[8, 16], lower=0.10, rot=0)"
   ]
  },
  {
   "cell_type": "code",
   "execution_count": null,
   "metadata": {
    "collapsed": false,
    "deletable": true,
    "editable": true
   },
   "outputs": [],
   "source": [
    "# Plot for a list of libs. Only plot layers that consume between 5% and 10% of the total execution time.\n",
    "plot_time_per_image_per_layer(\n",
    "    df_per_layer_info, model='deepscale-squeezenet-1.1',\n",
    "    libs=['opencl-clblast','opencl-clblast-tune'], batch_sizes=2, lower=0.05, upper=0.10, rot=10)"
   ]
  },
  {
   "cell_type": "markdown",
   "metadata": {
    "deletable": true,
    "editable": true
   },
   "source": [
    "<a id=\"plot_ideal\"></a>\n",
    "## Plot the ideal adaptive solution"
   ]
  },
  {
   "cell_type": "markdown",
   "metadata": {
    "deletable": true,
    "editable": true
   },
   "source": [
    "<a id=\"plot_ideal_all\"></a>\n",
    "### Using all reasonable libs for adaptation"
   ]
  },
  {
   "cell_type": "code",
   "execution_count": null,
   "metadata": {
    "collapsed": false,
    "deletable": true,
    "editable": true
   },
   "outputs": [],
   "source": [
    "libs_for_adaptation = df_per_layer_info.index.get_level_values('lib') \\\n",
    "    .drop_duplicates() \\\n",
    "    .drop(libdnn_libs_to_drop, errors='ignore') \\\n",
    "    .values\n",
    "libs_for_adaptation"
   ]
  },
  {
   "cell_type": "markdown",
   "metadata": {
    "deletable": true,
    "editable": true
   },
   "source": [
    "Each row specifies an ideal adaptive solution for a model. Each column specifies the execution time (in ms per image) that the ideal adaptive solution would cumulatively spend using a particular library."
   ]
  },
  {
   "cell_type": "code",
   "execution_count": null,
   "metadata": {
    "collapsed": false,
    "deletable": true,
    "editable": true
   },
   "outputs": [],
   "source": [
    "df_ideal_all = get_ideal_adaptive_solution(df_per_layer_info, libs_for_adaptation)\n",
    "display_in_full(df_ideal_all)"
   ]
  },
  {
   "cell_type": "code",
   "execution_count": null,
   "metadata": {
    "collapsed": false,
    "deletable": true,
    "editable": true
   },
   "outputs": [],
   "source": [
    "plot_ideal_adaptive_solution(df_ideal_all, df_model_lib_mean)"
   ]
  },
  {
   "cell_type": "code",
   "execution_count": null,
   "metadata": {
    "collapsed": false,
    "deletable": true,
    "editable": true
   },
   "outputs": [],
   "source": [
    "df_best_lib = df_model_lib_mean.reorder_levels(['lib', 'model']).unstack('lib')\n",
    "df_ideal_all.sum(axis=1) / df_best_lib.min(axis=1)"
   ]
  },
  {
   "cell_type": "markdown",
   "metadata": {
    "deletable": true,
    "editable": true
   },
   "source": [
    "<a id=\"plot_ideal_cpu_libdnn\"></a>\n",
    "### Using OpenBLAS and libDNN for adaptation"
   ]
  },
  {
   "cell_type": "code",
   "execution_count": null,
   "metadata": {
    "collapsed": false,
    "deletable": true,
    "editable": true
   },
   "outputs": [],
   "source": [
    "libs_for_adaptation = ['cpu', 'opencl-libdnn-clblast-tune']\n",
    "df_ideal_cpu_libdnn = get_ideal_adaptive_solution(df_per_layer_info, libs_for_adaptation)\n",
    "display_in_full(df_ideal_cpu_libdnn)"
   ]
  },
  {
   "cell_type": "code",
   "execution_count": null,
   "metadata": {
    "collapsed": false,
    "deletable": true,
    "editable": true
   },
   "outputs": [],
   "source": [
    "plot_ideal_adaptive_solution(df_ideal_cpu_libdnn, df_model_lib_mean)"
   ]
  },
  {
   "cell_type": "code",
   "execution_count": null,
   "metadata": {
    "collapsed": false,
    "deletable": true,
    "editable": true
   },
   "outputs": [],
   "source": [
    "# By how much is the execution time reduced compared to the best non-adaptive solution?\n",
    "df_best_lib = df_model_lib_mean.reorder_levels(['lib', 'model']).sort_index()[libs_for_adaptation].unstack('lib')\n",
    "df_ideal_cpu_libdnn.sum(axis=1) / df_best_lib.min(axis=1)"
   ]
  },
  {
   "cell_type": "code",
   "execution_count": null,
   "metadata": {
    "collapsed": false,
    "deletable": true,
    "editable": true
   },
   "outputs": [],
   "source": [
    "# By how much is the execution time increased compared to the best adaptive solution?\n",
    "df_ideal_cpu_libdnn.sum(axis=1) / df_ideal_all.sum(axis=1)"
   ]
  },
  {
   "cell_type": "markdown",
   "metadata": {
    "deletable": true,
    "editable": true
   },
   "source": [
    "<a id=\"plot_ideal_cpu_clblast\"></a>\n",
    "### Using OpenBLAS and CLBlast for adaptation"
   ]
  },
  {
   "cell_type": "code",
   "execution_count": null,
   "metadata": {
    "collapsed": false,
    "deletable": true,
    "editable": true
   },
   "outputs": [],
   "source": [
    "libs_for_adaptation = ['cpu', 'opencl-clblast-tune']\n",
    "df_ideal_cpu_clblast = get_ideal_adaptive_solution(df_per_layer_info, libs_for_adaptation)\n",
    "display_in_full(df_ideal_cpu_clblast)"
   ]
  },
  {
   "cell_type": "code",
   "execution_count": null,
   "metadata": {
    "collapsed": false,
    "deletable": true,
    "editable": true
   },
   "outputs": [],
   "source": [
    "plot_ideal_adaptive_solution(df_ideal_cpu_clblast, df_model_lib_mean)"
   ]
  },
  {
   "cell_type": "code",
   "execution_count": null,
   "metadata": {
    "collapsed": false,
    "deletable": true,
    "editable": true
   },
   "outputs": [],
   "source": [
    "# By how much is the execution time reduced compared to the best non-adaptive solution?\n",
    "df_best_lib = df_model_lib_mean.reorder_levels(['lib', 'model']).sort_index()[libs_for_adaptation].unstack('lib')\n",
    "df_ideal_cpu_clblast.sum(axis=1) / df_best_lib.min(axis=1)"
   ]
  },
  {
   "cell_type": "code",
   "execution_count": null,
   "metadata": {
    "collapsed": false,
    "deletable": true,
    "editable": true
   },
   "outputs": [],
   "source": [
    "# By how much is the execution time increased compared to the best adaptive solution?\n",
    "df_ideal_cpu_clblast.sum(axis=1) / df_ideal_all.sum(axis=1)"
   ]
  },
  {
   "cell_type": "markdown",
   "metadata": {
    "deletable": true,
    "editable": true
   },
   "source": [
    "<a id=\"plot_ideal_cpu_viennacl\"></a>\n",
    "### Using OpenBLAS and ViennaCL for adaptation"
   ]
  },
  {
   "cell_type": "code",
   "execution_count": null,
   "metadata": {
    "collapsed": false,
    "deletable": true,
    "editable": true
   },
   "outputs": [],
   "source": [
    "libs_for_adaptation = ['cpu', 'opencl-viennacl']\n",
    "df_ideal_cpu_viennacl = get_ideal_adaptive_solution(df_per_layer_info, libs_for_adaptation)\n",
    "display_in_full(df_ideal_cpu_viennacl)"
   ]
  },
  {
   "cell_type": "code",
   "execution_count": null,
   "metadata": {
    "collapsed": false,
    "deletable": true,
    "editable": true
   },
   "outputs": [],
   "source": [
    "plot_ideal_adaptive_solution(df_ideal_cpu_viennacl, df_model_lib_mean)"
   ]
  },
  {
   "cell_type": "code",
   "execution_count": null,
   "metadata": {
    "collapsed": false,
    "deletable": true,
    "editable": true
   },
   "outputs": [],
   "source": [
    "# By how much is the execution time reduced compared to the best non-adaptive solution?\n",
    "df_best_lib = df_model_lib_mean.reorder_levels(['lib', 'model']).sort_index()[libs_for_adaptation].unstack('lib')\n",
    "df_ideal_cpu_viennacl.sum(axis=1) / df_best_lib.min(axis=1)"
   ]
  },
  {
   "cell_type": "code",
   "execution_count": null,
   "metadata": {
    "collapsed": false,
    "deletable": true,
    "editable": true
   },
   "outputs": [],
   "source": [
    "# By how much is the execution time increased compared to the best adaptive solution?\n",
    "df_ideal_cpu_viennacl.sum(axis=1) / df_ideal_all.sum(axis=1)"
   ]
  },
  {
   "cell_type": "markdown",
   "metadata": {
    "deletable": true,
    "editable": true
   },
   "source": [
    "<a id=\"plot_memory\"></a>\n",
    "## Plot memory consumption"
   ]
  },
  {
   "cell_type": "code",
   "execution_count": null,
   "metadata": {
    "collapsed": false,
    "deletable": true,
    "editable": true
   },
   "outputs": [],
   "source": [
    "df_memory = df_all['memory (MB)'].loc[platform_id]\n",
    "# Batch size of 2; repetition 0 (should always be available).\n",
    "df_memory = df_memory.unstack(['model','lib']).loc[2].loc[0].unstack('lib')\n",
    "plot(mean=df_memory, std=pd.DataFrame(), ylabel='Memory size (MB)')"
   ]
  },
  {
   "cell_type": "markdown",
   "metadata": {
    "deletable": true,
    "editable": true
   },
   "source": [
    "<a id=\"balance_memory_time\"></a>\n",
    "### Balance memory consumption and execution time per image"
   ]
  },
  {
   "cell_type": "markdown",
   "metadata": {
    "deletable": true,
    "editable": true
   },
   "source": [
    "The above, however, does not tell the full story. The memory consumption, as reported by Caffe, increases linearly with the batch size. In other words, the memory consumption per image is constant. (Note that extra memory may be required e.g. for GPU buffers in host memory.)\n",
    "\n",
    "The execution time per image, however, decreases asymptotically. Since minimizing the execution time almost always should be balanced with minimizing the memory consumption, we should select the batch size that results in \"good enough\" performance.\n",
    "\n",
    "We give several examples below. Note that the execution time per batch is omitted to make the execution time per image more pronounced."
   ]
  },
  {
   "cell_type": "code",
   "execution_count": null,
   "metadata": {
    "collapsed": false,
    "deletable": true,
    "editable": true
   },
   "outputs": [],
   "source": [
    "plot_time_per_image_and_memory_consumption(df_all.loc[platform_id], model='bvlc-alexnet', lib='opencl-clblast-tune')"
   ]
  },
  {
   "cell_type": "code",
   "execution_count": null,
   "metadata": {
    "collapsed": false,
    "deletable": true,
    "editable": true
   },
   "outputs": [],
   "source": [
    "plot_time_per_image_and_memory_consumption(df_all.loc[platform_id], model='deepscale-squeezenet-1.1', lib='opencl-viennacl')"
   ]
  },
  {
   "cell_type": "markdown",
   "metadata": {
    "deletable": true,
    "editable": true
   },
   "source": [
    "<a id=\"alexnet_vs_squeezenet\"></a>\n",
    "## Compare AlexNet and SqueezeNet"
   ]
  },
  {
   "cell_type": "markdown",
   "metadata": {
    "deletable": true,
    "editable": true
   },
   "source": [
    "<a id=\"alexnet_vs_squeezenet_memory\"></a>\n",
    "### Memory consumption"
   ]
  },
  {
   "cell_type": "code",
   "execution_count": null,
   "metadata": {
    "collapsed": false,
    "deletable": true,
    "editable": true
   },
   "outputs": [],
   "source": [
    "# SqueezeNet consumes ~4 times more activation memory than AlexNet.\n",
    "df_memory.loc[['bvlc-alexnet', 'deepscale-squeezenet-1.1']].iloc[1] / \\\n",
    "df_memory.loc[['bvlc-alexnet', 'deepscale-squeezenet-1.1']].iloc[0]"
   ]
  },
  {
   "cell_type": "markdown",
   "metadata": {
    "deletable": true,
    "editable": true
   },
   "source": [
    "<a id=\"alexnet_vs_squeezenet_time\"></a>\n",
    "### Execution time"
   ]
  },
  {
   "cell_type": "code",
   "execution_count": null,
   "metadata": {
    "collapsed": false,
    "deletable": true,
    "editable": true
   },
   "outputs": [],
   "source": [
    "mean = df_model_lib_mean[['bvlc-alexnet', 'deepscale-squeezenet-1.1']].unstack('lib')\n",
    "std  = df_model_lib_std[['bvlc-alexnet', 'deepscale-squeezenet-1.1']].unstack('lib')\n",
    "plot(mean, std)"
   ]
  },
  {
   "cell_type": "code",
   "execution_count": null,
   "metadata": {
    "collapsed": false,
    "deletable": true,
    "editable": true
   },
   "outputs": [],
   "source": [
    "df_model_lib_mean[['bvlc-alexnet', 'deepscale-squeezenet-1.1']].unstack('lib').iloc[1] / \\\n",
    "df_model_lib_mean[['bvlc-alexnet', 'deepscale-squeezenet-1.1']].unstack('lib').iloc[0]"
   ]
  },
  {
   "cell_type": "markdown",
   "metadata": {
    "deletable": true,
    "editable": true
   },
   "source": [
    "<a id=\"summary\"></a>\n",
    "## Summary"
   ]
  },
  {
   "cell_type": "markdown",
   "metadata": {
    "deletable": true,
    "editable": true
   },
   "source": [
    "<a id=\"performance_absolute\"></a>\n",
    "### What's the absolute performance?"
   ]
  },
  {
   "cell_type": "code",
   "execution_count": null,
   "metadata": {
    "collapsed": false,
    "deletable": true,
    "editable": true
   },
   "outputs": [],
   "source": [
    "plot_max_num_images_per_second(\n",
    "    df_mean_time_per_image,\n",
    "    fontsize=18\n",
    ")"
   ]
  },
  {
   "cell_type": "markdown",
   "metadata": {
    "deletable": true,
    "editable": true
   },
   "source": [
    "<a id=\"performance_relative\"></a>\n",
    "### What's the relative performance?"
   ]
  },
  {
   "cell_type": "markdown",
   "metadata": {
    "deletable": true,
    "editable": true
   },
   "source": [
    "#### ... over OpenBLAS?"
   ]
  },
  {
   "cell_type": "code",
   "execution_count": null,
   "metadata": {
    "collapsed": false,
    "deletable": true,
    "editable": true
   },
   "outputs": [],
   "source": [
    "plot_speedup_over_baseline(\n",
    "    df_mean_time_per_image,\n",
    "    baseline='cpu',\n",
    "    fontsize=18\n",
    ")"
   ]
  },
  {
   "cell_type": "markdown",
   "metadata": {
    "collapsed": false,
    "deletable": true,
    "editable": true
   },
   "source": [
    "#### ... over CLBlast (dv/dt)?"
   ]
  },
  {
   "cell_type": "code",
   "execution_count": null,
   "metadata": {
    "collapsed": false,
    "deletable": true,
    "editable": true
   },
   "outputs": [],
   "source": [
    "plot_speedup_over_baseline(\n",
    "    df_mean_time_per_image,\n",
    "    baseline='opencl-clblast-tune',\n",
    "    fontsize=18\n",
    ")"
   ]
  },
  {
   "cell_type": "code",
   "execution_count": null,
   "metadata": {
    "collapsed": false,
    "deletable": true,
    "editable": true
   },
   "outputs": [],
   "source": [
    "plot_speedup_over_baseline(\n",
    "    df_mean_time_per_image.loc[['bvlc-alexnet', 'deepscale-squeezenet-1.1']],\n",
    "    baseline='opencl-clblast-tune',\n",
    "    fontsize=26\n",
    ")"
   ]
  }
 ],
 "metadata": {
  "kernelspec": {
   "display_name": "Python 2",
   "language": "python",
   "name": "python2"
  },
  "language_info": {
   "codemirror_mode": {
    "name": "ipython",
    "version": 2
   },
   "file_extension": ".py",
   "mimetype": "text/x-python",
   "name": "python",
   "nbconvert_exporter": "python",
   "pygments_lexer": "ipython2",
   "version": "2.7.12"
  }
 },
 "nbformat": 4,
 "nbformat_minor": 0
}
